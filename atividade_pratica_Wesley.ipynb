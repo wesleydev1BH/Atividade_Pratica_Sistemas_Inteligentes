{
  "nbformat": 4,
  "nbformat_minor": 0,
  "metadata": {
    "colab": {
      "provenance": []
    },
    "kernelspec": {
      "name": "python3",
      "display_name": "Python 3"
    },
    "language_info": {
      "name": "python"
    }
  },
  "cells": [
    {
      "cell_type": "code",
      "execution_count": null,
      "metadata": {
        "id": "4JVYg6M1Okw7"
      },
      "outputs": [],
      "source": [
        "# prompt: leia o arquivo titanic.csv\n",
        "\n",
        "import pandas as pd\n",
        "from sklearn.model_selection import train_test_split\n",
        "\n",
        "\n",
        "\n",
        "# Read the titanic.csv file into a DataFrame.\n",
        "df = pd.read_csv('titanic.csv')\n",
        "\n",
        "# Print the first few rows of the DataFrame.\n",
        "#print(df.head())\n",
        "\n",
        "features = ['Pclass','Sex','Age','Fare','SibSp','Parch']\n",
        "\n",
        "X = df[features]\n",
        "X['Sex'] = X['Sex'].map({'male':0, 'female':1})\n",
        "\n",
        "y = df['Survived']\n",
        "X = X.fillna(X.mean())\n",
        "X_train, X_test,y_train, y_test = train_test_split(X, y, test_size=0.2, random_state=42)\n",
        "\n"
      ]
    },
    {
      "cell_type": "markdown",
      "source": [
        "classificador árvore de decisão"
      ],
      "metadata": {
        "id": "Y4JjO1sPvbW4"
      }
    },
    {
      "cell_type": "code",
      "source": [
        "from sklearn.tree import DecisionTreeClassifier\n",
        "from sklearn.tree import export_text\n",
        "from sklearn.metrics import accuracy_score\n",
        "\n",
        "decision_tree_classifier = DecisionTreeClassifier()\n",
        "decision_tree_classifier.fit(X_train, y_train)\n",
        "\n",
        "tree_rules = export_text(decision_tree_classifier,feature_names=features )\n",
        "\n",
        "#print(tree_rules)\n",
        "\n",
        "predictions = decision_tree_classifier.predict(X_test)\n",
        "accuracy = accuracy_score(y_test, predictions)\n",
        "print(\"precisão: \", accuracy)"
      ],
      "metadata": {
        "colab": {
          "base_uri": "https://localhost:8080/"
        },
        "id": "GeWG_-TPvMrU",
        "outputId": "ad76dfef-5b01-43b0-ae58-6d8022a70811"
      },
      "execution_count": 19,
      "outputs": [
        {
          "output_type": "stream",
          "name": "stdout",
          "text": [
            "precisão:  0.7486033519553073\n"
          ]
        }
      ]
    },
    {
      "cell_type": "markdown",
      "source": [
        "classificador árvore de decisão"
      ],
      "metadata": {
        "id": "fTksTHkYvV0E"
      }
    },
    {
      "cell_type": "code",
      "source": [
        "from sklearn.neural_network import MLPClassifier\n",
        "from sklearn.metrics import accuracy_score\n",
        "mlp = MLPClassifier(hidden_layer_sizes=(10,5), max_iter=1000, random_state=42)\n",
        "mlp.fit(X_train, y_train)\n",
        "\n",
        "predictions = mlp.predict(X_test)\n",
        "accuracy = accuracy_score(y_test, predictions)\n",
        "print(\"precisão: \", accuracy)\n",
        "\n"
      ],
      "metadata": {
        "colab": {
          "base_uri": "https://localhost:8080/"
        },
        "id": "0LpcpnPGvitH",
        "outputId": "48a11b64-9d23-43b3-e457-61ee91add2e1"
      },
      "execution_count": 20,
      "outputs": [
        {
          "output_type": "stream",
          "name": "stdout",
          "text": [
            "precisão:  0.8044692737430168\n"
          ]
        }
      ]
    }
  ]
}